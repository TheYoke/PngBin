{
 "cells": [
  {
   "cell_type": "markdown",
   "metadata": {},
   "source": [
    "# PostImages Uploader\n",
    "\n",
    "This notebook provide an easy way to upload your images to [postimages.org](https://postimages.org)."
   ]
  },
  {
   "cell_type": "markdown",
   "metadata": {},
   "source": [
    "#### How to use:\n",
    "- Modify the **configurations** if needed.\n",
    "- At menu bar, select Run > Run All Cells.\n",
    "- Scroll to the end of this notebook for outputs."
   ]
  },
  {
   "cell_type": "markdown",
   "metadata": {},
   "source": [
    "## Configurations"
   ]
  },
  {
   "cell_type": "markdown",
   "metadata": {},
   "source": [
    "---\n",
    "Path to a directory which contains your images you want to upload.\n",
    "> Only files in top level directory will be uploaded.  \n",
    "> Limit: 24 MiB per file or image dimension of 2508 squared pixels."
   ]
  },
  {
   "cell_type": "code",
   "execution_count": null,
   "metadata": {},
   "outputs": [],
   "source": [
    "INPUT_DIR = '../outputs/images'"
   ]
  },
  {
   "cell_type": "markdown",
   "metadata": {},
   "source": [
    "---\n",
    "Path to a file which will contain a list of uploaded image urls used for updating metadata database file.\n",
    "> Append if exists."
   ]
  },
  {
   "cell_type": "code",
   "execution_count": null,
   "metadata": {},
   "outputs": [],
   "source": [
    "URLS_PATH = '../outputs/urls.txt'"
   ]
  },
  {
   "cell_type": "markdown",
   "metadata": {},
   "source": [
    "---"
   ]
  },
  {
   "cell_type": "markdown",
   "metadata": {},
   "source": [
    "### Import"
   ]
  },
  {
   "cell_type": "code",
   "execution_count": null,
   "metadata": {},
   "outputs": [],
   "source": [
    "import os\n",
    "import sys\n",
    "\n",
    "from modules.PostImages import PostImages"
   ]
  },
  {
   "cell_type": "markdown",
   "metadata": {},
   "source": [
    "### Basic Configuration Validation"
   ]
  },
  {
   "cell_type": "code",
   "execution_count": null,
   "metadata": {},
   "outputs": [],
   "source": [
    "assert os.path.isdir(INPUT_DIR), 'INPUT_DIR must exist and be a directory.'\n",
    "assert any(x.is_file() for x in os.scandir(INPUT_DIR)), 'INPUT_DIR top level directory must have at least one file.'\n",
    "assert not os.path.exists(URLS_PATH) or os.path.isfile(URLS_PATH), 'URLS_PATH must be a file if it exists.'"
   ]
  },
  {
   "cell_type": "markdown",
   "metadata": {},
   "source": [
    "### Upload"
   ]
  },
  {
   "cell_type": "code",
   "execution_count": null,
   "metadata": {},
   "outputs": [],
   "source": [
    "uploader = PostImages()\n",
    "\n",
    "extras = []\n",
    "try:\n",removal_link
    "    with open(URLS_PATH, 'a') as f_urls:\n",
    "        for entry in os.scandir(INPUT_DIR):\n",
    "            if entry.is_file():\n",
    "                image_url, extra = uploader.upload_file(entry.path)\n",
    "                extras.append(extra)\n",
    "\n",
    "                print(entry.name, image_url, '', sep='\\n', file=f_urls)\n",
    "                print(entry.name, image_url, extra)\n",
    "\n",
    "    print('DONE!')\n",
    "except KeyboardInterrupt:\n",
    "    print('\\nStopped!')"
   ]
  },
  {
   "cell_type": "markdown",
   "metadata": {},
   "source": [
    "---\n",
    "---\n",
    "### Delete Uploaded Images [EXTRA]\n",
    "> Change below cell to code mode to run the cell."
   ]
  },
  {
   "cell_type": "raw",
   "metadata": {},
   "source": [
    "for extra in extras:\n",
    "    result = uploader.delete(extra['removal_link'])\n",
    "    print(result)"
   ]
  }
 ],
 "metadata": {
  "kernelspec": {
   "display_name": "Python 3",
   "language": "python",
   "name": "python3"
  },
  "language_info": {
   "codemirror_mode": {
    "name": "ipython",
    "version": 3
   },
   "file_extension": ".py",
   "mimetype": "text/x-python",
   "name": "python",
   "nbconvert_exporter": "python",
   "pygments_lexer": "ipython3",
   "version": "3.8.10"
  }
 },
 "nbformat": 4,
 "nbformat_minor": 4
}
