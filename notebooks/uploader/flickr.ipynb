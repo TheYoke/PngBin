{
 "cells": [
  {
   "cell_type": "markdown",
   "metadata": {},
   "source": [
    "# Flickr Uploader\n",
    "\n",
    "This notebook provide an easy way to upload your images to [flickr.com](https://www.flickr.com)."
   ]
  },
  {
   "cell_type": "markdown",
   "metadata": {},
   "source": [
    "#### How to use:\n",
    "- Modify the [**configurations**](#Configurations) as needed.\n",
    "- At menu bar, select Run > Run All Cells.\n",
    "- Scroll to the end of this notebook for a progress output."
   ]
  },
  {
   "cell_type": "markdown",
   "metadata": {},
   "source": [
    "## Configurations"
   ]
  },
  {
   "cell_type": "markdown",
   "metadata": {},
   "source": [
    "---\n",
    "Path to a directory which contains your images you want to upload.\n",
    "> Only files in top level directory will be uploaded.  \n",
    "> Limit: 200 MiB per file or image dimension of 7240 squared pixels."
   ]
  },
  {
   "cell_type": "code",
   "execution_count": null,
   "metadata": {},
   "outputs": [],
   "source": [
    "INPUT_DIR = '../outputs/images'"
   ]
  },
  {
   "cell_type": "markdown",
   "metadata": {},
   "source": [
    "---\n",
    "Path to a file which will contain a list of uploaded image urls used for updating metadata database file.\n",
    "> Append if exists."
   ]
  },
  {
   "cell_type": "code",
   "execution_count": null,
   "metadata": {},
   "outputs": [],
   "source": [
    "URLS_PATH = '../outputs/urls.txt'"
   ]
  },
  {
   "cell_type": "markdown",
   "metadata": {},
   "source": [
    "---\n",
    "Cookie values of your Flickr account.\n",
    "> Required"
   ]
  },
  {
   "cell_type": "code",
   "execution_count": null,
   "metadata": {},
   "outputs": [],
   "source": [
    "COOKIE_FFS = ''\n",
    "COOKIE_SESSION = ''"
   ]
  },
  {
   "cell_type": "markdown",
   "metadata": {},
   "source": [
    "---"
   ]
  },
  {
   "cell_type": "markdown",
   "metadata": {},
   "source": [
    "### Import"
   ]
  },
  {
   "cell_type": "code",
   "execution_count": null,
   "metadata": {},
   "outputs": [],
   "source": [
    "import os\n",
    "from modules.Flickr import Flickr"
   ]
  },
  {
   "cell_type": "markdown",
   "metadata": {},
   "source": [
    "### Basic Configuration Validation"
   ]
  },
  {
   "cell_type": "code",
   "execution_count": null,
   "metadata": {},
   "outputs": [],
   "source": [
    "assert os.path.isdir(INPUT_DIR), 'INPUT_DIR must exist and be a directory.'\n",
    "assert any(x.is_file() for x in os.scandir(INPUT_DIR)), 'INPUT_DIR top level directory must have at least one file.'\n",
    "assert not os.path.exists(URLS_PATH) or os.path.isfile(URLS_PATH), 'URLS_PATH must be a file if it exists.'\n",
    "\n",
    "assert COOKIE_FFS and COOKIE_SESSION, 'COOKIE_FFS and COOKIE_SESSION are required.'"
   ]
  },
  {
   "cell_type": "markdown",
   "metadata": {},
   "source": [
    "### Upload It"
   ]
  },
  {
   "cell_type": "code",
   "execution_count": null,
   "metadata": {},
   "outputs": [],
   "source": [
    "uploader = Flickr(COOKIE_FFS, COOKIE_SESSION)\n",
    "name_paths = [(entry.name, entry.path) for entry in os.scandir(INPUT_DIR) if entry.is_file()]\n",
    "name_paths.sort(key=lambda x: x[0])\n",
    "\n",
    "extras = []\n",
    "try:\n",
    "    with open(URLS_PATH, 'a') as f_urls:\n",
    "        for name, path in name_paths:\n",
    "            image_url, extra = uploader.upload_file(path)\n",
    "            extras.append(extra)\n",
    "\n",
    "            print(name, image_url, '', sep='\\n', file=f_urls)\n",
    "            print(name, image_url, extra)\n",
    "\n",
    "    print('DONE!')\n",
    "except KeyboardInterrupt:\n",
    "    print('\\nStopped!')"
   ]
  }
 ],
 "metadata": {
  "kernelspec": {
   "display_name": "Python 3 (ipykernel)",
   "language": "python",
   "name": "python3"
  },
  "language_info": {
   "codemirror_mode": {
    "name": "ipython",
    "version": 3
   },
   "file_extension": ".py",
   "mimetype": "text/x-python",
   "name": "python",
   "nbconvert_exporter": "python",
   "pygments_lexer": "ipython3",
   "version": "3.10.6"
  }
 },
 "nbformat": 4,
 "nbformat_minor": 4
}
